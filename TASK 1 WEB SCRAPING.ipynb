{
 "cells": [
  {
   "cell_type": "code",
   "execution_count": 7,
   "id": "08e82733-84bb-48b9-8632-1ef00b7ef3c8",
   "metadata": {},
   "outputs": [],
   "source": [
    "import requests \n",
    "import pandas as pd\n",
    "from bs4 import BeautifulSoup\n",
    "import time\n",
    "import datetime\n",
    "import smtplib"
   ]
  },
  {
   "cell_type": "code",
   "execution_count": 9,
   "id": "5dfc455b-e74f-48ae-88f9-9ce9b9452197",
   "metadata": {},
   "outputs": [
    {
     "name": "stdout",
     "output_type": "stream",
     "text": [
      "\n",
      "                    Fuda: While Alive Eat Sleep Code Geek Printed Half Sleeve Cotton T Shirt for Men & Women\n",
      "                   \n",
      "\n",
      "                      499\n",
      "                     \n"
     ]
    }
   ],
   "source": [
    "URL = \"https://www.amazon.in/Fuda-While-Printed-Sleeve-Cotton/dp/B0CY4P4FH1/ref=sr_1_14?crid=1ONTBB4YPMFVN&dib=eyJ2IjoiMSJ9.-u6NvOEdc_yD0RkEDjH828CJYGQAztFifu63p8z3TlQATJKaFijGsqL8UhJf2At-qUOJB-cDf2CVr54Bq9whCv7O-VBrONb0uAK07SGtXTeMCDsh_6rWdvoty6sOuAK-r7z-XqmoQ1U-MOqRmXC5N-Vm9LlFZBjjvyZg7g9NayT2RR0rm68PMtSRdV02razrf_LOi2Gt7F72L3IDu3pEqtCxhauCLvmiqgHOCLHNfPOgwryfJ3s2cE-R8ixX3bAQ2luRlXXHCt9RURRAO6hwxdkkV9sbgoFBw_R7lUaFt5Q.4cDo1GL7gFmBWHi3mL4l5TXMiEyqQAP9VKGj8d8kf_c&dib_tag=se&keywords=data%2Banalyst%2Btshirt&qid=1748342357&sprefix=data%2Banalyst%2Btshir%2Caps%2C230&sr=8-14&th=1&psc=1\"\n",
    "\n",
    "headers = {\"User-Agent\": \"Mozilla/5.0 (Windows NT 10.0; Win64; x64) AppleWebKit/537.36 (KHTML, like Gecko) Chrome/78.0.3904.108 Safari/537.36\", \"Accept-Encoding\":\"gzip, deflate\", \"Accept\":\"text/html,application/xhtml+xml,application/xml;q=0.9,*/*;q=0.8\", \"DNT\":\"1\",\"Connection\":\"close\", \"Upgrade-Insecure-Requests\":\"1\"}\n",
    "\n",
    "page = requests.get(URL, headers=headers)\n",
    "\n",
    "soup1 = BeautifulSoup(page.content, \"html.parser\")\n",
    "\n",
    "soup2 = BeautifulSoup(soup1.prettify(), \"html.parser\")\n",
    "\n",
    "title = soup2.find(id='productTitle').get_text()\n",
    "\n",
    "price = soup2.find(class_='a-price-whole').get_text()\n",
    "\n",
    "\n",
    "print(title)\n",
    "print(price)"
   ]
  },
  {
   "cell_type": "code",
   "execution_count": 10,
   "id": "ee7d42a8-ef00-4da8-aa8b-7b496c046c0c",
   "metadata": {},
   "outputs": [
    {
     "name": "stdout",
     "output_type": "stream",
     "text": [
      "Fuda: While Alive Eat Sleep Code Geek Printed Half Sleeve Cotton T Shirt for Men & Women\n",
      "99\n"
     ]
    }
   ],
   "source": [
    "price = price.strip()[1:]\n",
    "title = title.strip()\n",
    "\n",
    "print(title)\n",
    "print(price)\n"
   ]
  },
  {
   "cell_type": "code",
   "execution_count": 13,
   "id": "8bcfdeb4-ce40-4ceb-8e96-5b5161a82ec7",
   "metadata": {},
   "outputs": [
    {
     "name": "stdout",
     "output_type": "stream",
     "text": [
      "2025-05-27\n"
     ]
    }
   ],
   "source": [
    "import datetime\n",
    "\n",
    "today = datetime.date.today()\n",
    "\n",
    "print(today)"
   ]
  },
  {
   "cell_type": "code",
   "execution_count": 15,
   "id": "63b3e4ae-911a-44cb-86e5-c769d6e3608b",
   "metadata": {},
   "outputs": [],
   "source": [
    "import csv \n",
    "\n",
    "header = ['Title', 'Price', 'Date']\n",
    "data = [title, price, today]\n",
    "\n",
    "\n",
    "with open('AmazonWebScraperDataset.csv', 'w', newline='', encoding='UTF8') as f:\n",
    "    writer = csv.writer(f)\n",
    "    writer.writerow(header)\n",
    "    writer.writerow(data)\n",
    "    "
   ]
  },
  {
   "cell_type": "code",
   "execution_count": 17,
   "id": "adb2616b-ad18-4b4c-a0ef-8bac4343ce35",
   "metadata": {},
   "outputs": [
    {
     "name": "stdout",
     "output_type": "stream",
     "text": [
      "                                               Title  Price        Date\n",
      "0  Fuda: While Alive Eat Sleep Code Geek Printed ...     99  2025-05-27\n"
     ]
    }
   ],
   "source": [
    "\n",
    "import pandas as pd\n",
    "\n",
    "df = pd.read_csv(r\"C:\\Users\\Hp\\Code Alpha Tasks\\AmazonWebScraperDataset.csv\")\n",
    "\n",
    "print(df)"
   ]
  },
  {
   "cell_type": "code",
   "execution_count": 19,
   "id": "0d0d81cd-06c8-412d-9738-fafdb2c01ca4",
   "metadata": {},
   "outputs": [],
   "source": [
    "with open('AmazonWebScraperDataset.csv', 'a+', newline='', encoding='UTF8') as f:\n",
    "    writer = csv.writer(f)\n",
    "    writer.writerow(data)"
   ]
  },
  {
   "cell_type": "code",
   "execution_count": 25,
   "id": "ff17de83-9aa0-4184-aba8-bb5f207036fb",
   "metadata": {},
   "outputs": [],
   "source": [
    "def check_price():\n",
    "    URL = 'https://www.amazon.in/Fuda-While-Printed-Sleeve-Cotton/dp/B0CY4P4FH1/ref=sr_1_14?crid=1ONTBB4YPMFVN&dib=eyJ2IjoiMSJ9.-u6NvOEdc_yD0RkEDjH828CJYGQAztFifu63p8z3TlQATJKaFijGsqL8UhJf2At-qUOJB-cDf2CVr54Bq9whCv7O-VBrONb0uAK07SGtXTeMCDsh_6rWdvoty6sOuAK-r7z-XqmoQ1U-MOqRmXC5N-Vm9LlFZBjjvyZg7g9NayT2RR0rm68PMtSRdV02razrf_LOi2Gt7F72L3IDu3pEqtCxhauCLvmiqgHOCLHNfPOgwryfJ3s2cE-R8ixX3bAQ2luRlXXHCt9RURRAO6hwxdkkV9sbgoFBw_R7lUaFt5Q.4cDo1GL7gFmBWHi3mL4l5TXMiEyqQAP9VKGj8d8kf_c&dib_tag=se&keywords=data%2Banalyst%2Btshirt&qid=1748342357&sprefix=data%2Banalyst%2Btshir%2Caps%2C230&sr=8-14&th=1&psc=1'\n",
    "\n",
    "    headers = {\"User-Agent\": \"Mozilla/5.0 (Windows NT 10.0; Win64; x64) AppleWebKit/537.36 (KHTML, like Gecko) Chrome/78.0.3904.108 Safari/537.36\", \"Accept-Encoding\":\"gzip, deflate\", \"Accept\":\"text/html,application/xhtml+xml,application/xml;q=0.9,*/*;q=0.8\", \"DNT\":\"1\",\"Connection\":\"close\", \"Upgrade-Insecure-Requests\":\"1\"}\n",
    "\n",
    "    page = requests.get(URL, headers=headers)\n",
    "\n",
    "    soup1 = BeautifulSoup(page.content, \"html.parser\")\n",
    "\n",
    "    soup2 = BeautifulSoup(soup1.prettify(), \"html.parser\")\n",
    "\n",
    "    title = soup2.find(id='productTitle').get_text()\n",
    "\n",
    "    price = soup2.find(class_='a-price-whole').get_text()\n",
    "\n",
    "    price = price.strip()[1:]\n",
    "    title = title.strip()\n",
    "\n",
    "    import datetime\n",
    "\n",
    "    today = datetime.date.today()\n",
    "    \n",
    "    import csv \n",
    "\n",
    "    header = ['Title', 'Price', 'Date']\n",
    "    data = [title, price, today]\n",
    "\n",
    "    with open('AmazonWebScraperDataset.csv', 'a+', newline='', encoding='UTF8') as f:\n",
    "        writer = csv.writer(f)\n",
    "        writer.writerow(data)"
   ]
  },
  {
   "cell_type": "code",
   "execution_count": null,
   "id": "fada0913-8329-4883-9bda-d91aa1ffb286",
   "metadata": {},
   "outputs": [],
   "source": [
    "while(True):\n",
    "    check_price()\n",
    "    time.sleep(86400)"
   ]
  },
  {
   "cell_type": "code",
   "execution_count": 5,
   "id": "262aad63-c6d5-4b7b-8782-ca1ad5d079c7",
   "metadata": {},
   "outputs": [
    {
     "name": "stdout",
     "output_type": "stream",
     "text": [
      "                                                Title  Price        Date\n",
      "0   Fuda: While Alive Eat Sleep Code Geek Printed ...     99  2025-05-27\n",
      "1   Fuda: While Alive Eat Sleep Code Geek Printed ...     99  2025-05-27\n",
      "2   Fuda: While Alive Eat Sleep Code Geek Printed ...     99  2025-05-27\n",
      "3   Fuda: While Alive Eat Sleep Code Geek Printed ...     99  2025-05-27\n",
      "4   Fuda: While Alive Eat Sleep Code Geek Printed ...     99  2025-05-27\n",
      "5   Fuda: While Alive Eat Sleep Code Geek Printed ...     99  2025-05-27\n",
      "6   Fuda: While Alive Eat Sleep Code Geek Printed ...     99  2025-05-27\n",
      "7   Fuda: While Alive Eat Sleep Code Geek Printed ...     99  2025-05-27\n",
      "8   Fuda: While Alive Eat Sleep Code Geek Printed ...     99  2025-05-27\n",
      "9   Fuda: While Alive Eat Sleep Code Geek Printed ...     99  2025-05-27\n",
      "10  Fuda: While Alive Eat Sleep Code Geek Printed ...     99  2025-05-27\n",
      "11  Fuda: While Alive Eat Sleep Code Geek Printed ...     99  2025-05-27\n",
      "12  Fuda: While Alive Eat Sleep Code Geek Printed ...     99  2025-05-27\n"
     ]
    }
   ],
   "source": [
    "\n",
    "import pandas as pd\n",
    "\n",
    "df = pd.read_csv(r\"C:\\Users\\Hp\\Code Alpha Tasks\\AmazonWebScraperDataset.csv\")\n",
    "\n",
    "print(df)"
   ]
  },
  {
   "cell_type": "code",
   "execution_count": null,
   "id": "90d2e0eb-eedd-4ee0-997f-6fa849f582c8",
   "metadata": {},
   "outputs": [],
   "source": []
  }
 ],
 "metadata": {
  "kernelspec": {
   "display_name": "Python 3 (ipykernel)",
   "language": "python",
   "name": "python3"
  },
  "language_info": {
   "codemirror_mode": {
    "name": "ipython",
    "version": 3
   },
   "file_extension": ".py",
   "mimetype": "text/x-python",
   "name": "python",
   "nbconvert_exporter": "python",
   "pygments_lexer": "ipython3",
   "version": "3.12.7"
  }
 },
 "nbformat": 4,
 "nbformat_minor": 5
}
